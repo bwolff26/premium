{
 "cells": [
  {
   "cell_type": "markdown",
   "id": "feb94d17",
   "metadata": {},
   "source": [
    "As usual we're start with cleaning and attempt to delay EDA until the end."
   ]
  },
  {
   "cell_type": "code",
   "execution_count": 1,
   "id": "d28c57b3",
   "metadata": {},
   "outputs": [],
   "source": [
    "import pandas as pd\n",
    "import numpy as np\n",
    "import matplotlib.pyplot as plt\n",
    "import seaborn as sns"
   ]
  },
  {
   "cell_type": "code",
   "execution_count": 2,
   "id": "d75d5f22",
   "metadata": {},
   "outputs": [
    {
     "name": "stdout",
     "output_type": "stream",
     "text": [
      "(1200000, 21)\n"
     ]
    },
    {
     "data": {
      "text/html": [
       "<div>\n",
       "<style scoped>\n",
       "    .dataframe tbody tr th:only-of-type {\n",
       "        vertical-align: middle;\n",
       "    }\n",
       "\n",
       "    .dataframe tbody tr th {\n",
       "        vertical-align: top;\n",
       "    }\n",
       "\n",
       "    .dataframe thead th {\n",
       "        text-align: right;\n",
       "    }\n",
       "</style>\n",
       "<table border=\"1\" class=\"dataframe\">\n",
       "  <thead>\n",
       "    <tr style=\"text-align: right;\">\n",
       "      <th></th>\n",
       "      <th>id</th>\n",
       "      <th>Age</th>\n",
       "      <th>Gender</th>\n",
       "      <th>Annual Income</th>\n",
       "      <th>Marital Status</th>\n",
       "      <th>Number of Dependents</th>\n",
       "      <th>Education Level</th>\n",
       "      <th>Occupation</th>\n",
       "      <th>Health Score</th>\n",
       "      <th>Location</th>\n",
       "      <th>...</th>\n",
       "      <th>Previous Claims</th>\n",
       "      <th>Vehicle Age</th>\n",
       "      <th>Credit Score</th>\n",
       "      <th>Insurance Duration</th>\n",
       "      <th>Policy Start Date</th>\n",
       "      <th>Customer Feedback</th>\n",
       "      <th>Smoking Status</th>\n",
       "      <th>Exercise Frequency</th>\n",
       "      <th>Property Type</th>\n",
       "      <th>Premium Amount</th>\n",
       "    </tr>\n",
       "  </thead>\n",
       "  <tbody>\n",
       "    <tr>\n",
       "      <th>0</th>\n",
       "      <td>0</td>\n",
       "      <td>19.0</td>\n",
       "      <td>Female</td>\n",
       "      <td>10049.0</td>\n",
       "      <td>Married</td>\n",
       "      <td>1.0</td>\n",
       "      <td>Bachelor's</td>\n",
       "      <td>Self-Employed</td>\n",
       "      <td>22.598761</td>\n",
       "      <td>Urban</td>\n",
       "      <td>...</td>\n",
       "      <td>2.0</td>\n",
       "      <td>17.0</td>\n",
       "      <td>372.0</td>\n",
       "      <td>5.0</td>\n",
       "      <td>2023-12-23 15:21:39.134960</td>\n",
       "      <td>Poor</td>\n",
       "      <td>No</td>\n",
       "      <td>Weekly</td>\n",
       "      <td>House</td>\n",
       "      <td>2869.0</td>\n",
       "    </tr>\n",
       "    <tr>\n",
       "      <th>1</th>\n",
       "      <td>1</td>\n",
       "      <td>39.0</td>\n",
       "      <td>Female</td>\n",
       "      <td>31678.0</td>\n",
       "      <td>Divorced</td>\n",
       "      <td>3.0</td>\n",
       "      <td>Master's</td>\n",
       "      <td>NaN</td>\n",
       "      <td>15.569731</td>\n",
       "      <td>Rural</td>\n",
       "      <td>...</td>\n",
       "      <td>1.0</td>\n",
       "      <td>12.0</td>\n",
       "      <td>694.0</td>\n",
       "      <td>2.0</td>\n",
       "      <td>2023-06-12 15:21:39.111551</td>\n",
       "      <td>Average</td>\n",
       "      <td>Yes</td>\n",
       "      <td>Monthly</td>\n",
       "      <td>House</td>\n",
       "      <td>1483.0</td>\n",
       "    </tr>\n",
       "    <tr>\n",
       "      <th>2</th>\n",
       "      <td>2</td>\n",
       "      <td>23.0</td>\n",
       "      <td>Male</td>\n",
       "      <td>25602.0</td>\n",
       "      <td>Divorced</td>\n",
       "      <td>3.0</td>\n",
       "      <td>High School</td>\n",
       "      <td>Self-Employed</td>\n",
       "      <td>47.177549</td>\n",
       "      <td>Suburban</td>\n",
       "      <td>...</td>\n",
       "      <td>1.0</td>\n",
       "      <td>14.0</td>\n",
       "      <td>NaN</td>\n",
       "      <td>3.0</td>\n",
       "      <td>2023-09-30 15:21:39.221386</td>\n",
       "      <td>Good</td>\n",
       "      <td>Yes</td>\n",
       "      <td>Weekly</td>\n",
       "      <td>House</td>\n",
       "      <td>567.0</td>\n",
       "    </tr>\n",
       "    <tr>\n",
       "      <th>3</th>\n",
       "      <td>3</td>\n",
       "      <td>21.0</td>\n",
       "      <td>Male</td>\n",
       "      <td>141855.0</td>\n",
       "      <td>Married</td>\n",
       "      <td>2.0</td>\n",
       "      <td>Bachelor's</td>\n",
       "      <td>NaN</td>\n",
       "      <td>10.938144</td>\n",
       "      <td>Rural</td>\n",
       "      <td>...</td>\n",
       "      <td>1.0</td>\n",
       "      <td>0.0</td>\n",
       "      <td>367.0</td>\n",
       "      <td>1.0</td>\n",
       "      <td>2024-06-12 15:21:39.226954</td>\n",
       "      <td>Poor</td>\n",
       "      <td>Yes</td>\n",
       "      <td>Daily</td>\n",
       "      <td>Apartment</td>\n",
       "      <td>765.0</td>\n",
       "    </tr>\n",
       "    <tr>\n",
       "      <th>4</th>\n",
       "      <td>4</td>\n",
       "      <td>21.0</td>\n",
       "      <td>Male</td>\n",
       "      <td>39651.0</td>\n",
       "      <td>Single</td>\n",
       "      <td>1.0</td>\n",
       "      <td>Bachelor's</td>\n",
       "      <td>Self-Employed</td>\n",
       "      <td>20.376094</td>\n",
       "      <td>Rural</td>\n",
       "      <td>...</td>\n",
       "      <td>0.0</td>\n",
       "      <td>8.0</td>\n",
       "      <td>598.0</td>\n",
       "      <td>4.0</td>\n",
       "      <td>2021-12-01 15:21:39.252145</td>\n",
       "      <td>Poor</td>\n",
       "      <td>Yes</td>\n",
       "      <td>Weekly</td>\n",
       "      <td>House</td>\n",
       "      <td>2022.0</td>\n",
       "    </tr>\n",
       "  </tbody>\n",
       "</table>\n",
       "<p>5 rows × 21 columns</p>\n",
       "</div>"
      ],
      "text/plain": [
       "   id   Age  Gender  Annual Income Marital Status  Number of Dependents  \\\n",
       "0   0  19.0  Female        10049.0        Married                   1.0   \n",
       "1   1  39.0  Female        31678.0       Divorced                   3.0   \n",
       "2   2  23.0    Male        25602.0       Divorced                   3.0   \n",
       "3   3  21.0    Male       141855.0        Married                   2.0   \n",
       "4   4  21.0    Male        39651.0         Single                   1.0   \n",
       "\n",
       "  Education Level     Occupation  Health Score  Location  ... Previous Claims  \\\n",
       "0      Bachelor's  Self-Employed     22.598761     Urban  ...             2.0   \n",
       "1        Master's            NaN     15.569731     Rural  ...             1.0   \n",
       "2     High School  Self-Employed     47.177549  Suburban  ...             1.0   \n",
       "3      Bachelor's            NaN     10.938144     Rural  ...             1.0   \n",
       "4      Bachelor's  Self-Employed     20.376094     Rural  ...             0.0   \n",
       "\n",
       "   Vehicle Age  Credit Score  Insurance Duration           Policy Start Date  \\\n",
       "0         17.0         372.0                 5.0  2023-12-23 15:21:39.134960   \n",
       "1         12.0         694.0                 2.0  2023-06-12 15:21:39.111551   \n",
       "2         14.0           NaN                 3.0  2023-09-30 15:21:39.221386   \n",
       "3          0.0         367.0                 1.0  2024-06-12 15:21:39.226954   \n",
       "4          8.0         598.0                 4.0  2021-12-01 15:21:39.252145   \n",
       "\n",
       "  Customer Feedback Smoking Status Exercise Frequency Property Type  \\\n",
       "0              Poor             No             Weekly         House   \n",
       "1           Average            Yes            Monthly         House   \n",
       "2              Good            Yes             Weekly         House   \n",
       "3              Poor            Yes              Daily     Apartment   \n",
       "4              Poor            Yes             Weekly         House   \n",
       "\n",
       "  Premium Amount  \n",
       "0         2869.0  \n",
       "1         1483.0  \n",
       "2          567.0  \n",
       "3          765.0  \n",
       "4         2022.0  \n",
       "\n",
       "[5 rows x 21 columns]"
      ]
     },
     "execution_count": 2,
     "metadata": {},
     "output_type": "execute_result"
    }
   ],
   "source": [
    "df = pd.read_csv('../data/train.csv')\n",
    "print(df.shape)\n",
    "df.head()\n",
    "\n",
    "#1.2 million people... no wonder this was such a big file. Realistic considering the industy and what I've worked with\n",
    "#in the past.\n",
    "\n",
    "#Recall that premium is this competion's target."
   ]
  },
  {
   "cell_type": "code",
   "execution_count": 3,
   "id": "7107e5c2",
   "metadata": {},
   "outputs": [],
   "source": [
    "df.columns = df.columns.str.lower().str.replace(' ', '_').str.replace('.', '')"
   ]
  },
  {
   "cell_type": "code",
   "execution_count": 4,
   "id": "ecb5926e",
   "metadata": {},
   "outputs": [
    {
     "name": "stdout",
     "output_type": "stream",
     "text": [
      "Index(['age', 'annual_income', 'marital_status', 'number_of_dependents',\n",
      "       'occupation', 'health_score', 'previous_claims', 'vehicle_age',\n",
      "       'credit_score', 'insurance_duration', 'customer_feedback'],\n",
      "      dtype='object')\n"
     ]
    }
   ],
   "source": [
    "if sum(df.isnull().sum())==0:\n",
    "    print(\"Phew, no nulls.\")\n",
    "else:\n",
    "    print(df.columns[df.isnull().any()])"
   ]
  },
  {
   "cell_type": "code",
   "execution_count": 5,
   "id": "3c9499c4",
   "metadata": {},
   "outputs": [
    {
     "data": {
      "text/html": [
       "<div>\n",
       "<style scoped>\n",
       "    .dataframe tbody tr th:only-of-type {\n",
       "        vertical-align: middle;\n",
       "    }\n",
       "\n",
       "    .dataframe tbody tr th {\n",
       "        vertical-align: top;\n",
       "    }\n",
       "\n",
       "    .dataframe thead th {\n",
       "        text-align: right;\n",
       "    }\n",
       "</style>\n",
       "<table border=\"1\" class=\"dataframe\">\n",
       "  <thead>\n",
       "    <tr style=\"text-align: right;\">\n",
       "      <th></th>\n",
       "      <th>null_sum</th>\n",
       "      <th>ratio</th>\n",
       "    </tr>\n",
       "  </thead>\n",
       "  <tbody>\n",
       "    <tr>\n",
       "      <th>previous_claims</th>\n",
       "      <td>364029</td>\n",
       "      <td>0.303</td>\n",
       "    </tr>\n",
       "    <tr>\n",
       "      <th>occupation</th>\n",
       "      <td>358075</td>\n",
       "      <td>0.298</td>\n",
       "    </tr>\n",
       "    <tr>\n",
       "      <th>credit_score</th>\n",
       "      <td>137882</td>\n",
       "      <td>0.115</td>\n",
       "    </tr>\n",
       "    <tr>\n",
       "      <th>number_of_dependents</th>\n",
       "      <td>109672</td>\n",
       "      <td>0.091</td>\n",
       "    </tr>\n",
       "    <tr>\n",
       "      <th>customer_feedback</th>\n",
       "      <td>77824</td>\n",
       "      <td>0.065</td>\n",
       "    </tr>\n",
       "    <tr>\n",
       "      <th>health_score</th>\n",
       "      <td>74076</td>\n",
       "      <td>0.062</td>\n",
       "    </tr>\n",
       "    <tr>\n",
       "      <th>annual_income</th>\n",
       "      <td>44949</td>\n",
       "      <td>0.037</td>\n",
       "    </tr>\n",
       "  </tbody>\n",
       "</table>\n",
       "</div>"
      ],
      "text/plain": [
       "                      null_sum  ratio\n",
       "previous_claims         364029  0.303\n",
       "occupation              358075  0.298\n",
       "credit_score            137882  0.115\n",
       "number_of_dependents    109672  0.091\n",
       "customer_feedback        77824  0.065\n",
       "health_score             74076  0.062\n",
       "annual_income            44949  0.037"
      ]
     },
     "execution_count": 5,
     "metadata": {},
     "output_type": "execute_result"
    }
   ],
   "source": [
    "#After back and fourth with ChatGPT and I, I figured this approach is better. No need to loop.\n",
    "\n",
    "thresh = .02\n",
    "\n",
    "null_counts = pd.DataFrame({'null_sum': df.isnull().sum()})\n",
    "null_counts['ratio'] = round(null_counts['null_sum']/df.shape[0], 3)\n",
    "null_concerns = null_counts[null_counts['ratio']>thresh].sort_values('ratio', ascending=False)\n",
    "null_concerns\n",
    "\n",
    "#So, previous claims has quite a lot of nulls... and even occupation does. Interesting. I wonder if that's th same as unemployed.\n",
    "#Credit score is always inteesting to see. Dependents are reasonable to ask, as well as feedback. Perhaps some similar issues iwth\n",
    "#health score as well (ie on the surface I'd assume dubious data doesn't have a health score). No comment on income (in the\n",
    "#context of nulls)."
   ]
  },
  {
   "cell_type": "markdown",
   "id": "eda00543",
   "metadata": {},
   "source": [
    "## Initial EDA\n",
    "\n",
    "Note that this will be my first projec where I hopefully remember to get into the habit of pasting below into a bit of code to later preserve any changes made to the data to a cleaned csv."
   ]
  },
  {
   "cell_type": "code",
   "execution_count": 6,
   "id": "300559f8",
   "metadata": {},
   "outputs": [],
   "source": [
    "i = -1"
   ]
  },
  {
   "cell_type": "code",
   "execution_count": 7,
   "id": "82807030",
   "metadata": {},
   "outputs": [
    {
     "name": "stdout",
     "output_type": "stream",
     "text": [
      "Now looking at feature 0.\n"
     ]
    },
    {
     "data": {
      "text/plain": [
       "id\n",
       "0          8.333333e-07\n",
       "799988     8.333333e-07\n",
       "800004     8.333333e-07\n",
       "800003     8.333333e-07\n",
       "800002     8.333333e-07\n",
       "               ...     \n",
       "399999     8.333333e-07\n",
       "399998     8.333333e-07\n",
       "399997     8.333333e-07\n",
       "399996     8.333333e-07\n",
       "1199999    8.333333e-07\n",
       "Name: proportion, Length: 1200000, dtype: float64"
      ]
     },
     "execution_count": 7,
     "metadata": {},
     "output_type": "execute_result"
    }
   ],
   "source": [
    "i += 1 #Eh...\n",
    "print(f\"Now looking at feature {i}.\")\n",
    "df[df.columns[i]].value_counts(normalize=True)"
   ]
  },
  {
   "cell_type": "code",
   "execution_count": 8,
   "id": "26d55892",
   "metadata": {},
   "outputs": [
    {
     "name": "stdout",
     "output_type": "stream",
     "text": [
      "Now looking at feature 1.\n"
     ]
    },
    {
     "data": {
      "text/plain": [
       "age\n",
       "53.0    0.022309\n",
       "61.0    0.022194\n",
       "39.0    0.022045\n",
       "64.0    0.022001\n",
       "57.0    0.021985\n",
       "43.0    0.021981\n",
       "62.0    0.021882\n",
       "46.0    0.021803\n",
       "33.0    0.021779\n",
       "47.0    0.021763\n",
       "44.0    0.021707\n",
       "34.0    0.021684\n",
       "58.0    0.021624\n",
       "31.0    0.021586\n",
       "56.0    0.021544\n",
       "32.0    0.021531\n",
       "54.0    0.021476\n",
       "38.0    0.021456\n",
       "36.0    0.021451\n",
       "35.0    0.021437\n",
       "22.0    0.021425\n",
       "59.0    0.021310\n",
       "37.0    0.021301\n",
       "51.0    0.021300\n",
       "55.0    0.021275\n",
       "49.0    0.021254\n",
       "45.0    0.021249\n",
       "20.0    0.021210\n",
       "21.0    0.021152\n",
       "50.0    0.021115\n",
       "40.0    0.021059\n",
       "48.0    0.021023\n",
       "26.0    0.020998\n",
       "24.0    0.020901\n",
       "30.0    0.020895\n",
       "29.0    0.020886\n",
       "19.0    0.020859\n",
       "42.0    0.020847\n",
       "60.0    0.020819\n",
       "52.0    0.020818\n",
       "18.0    0.020730\n",
       "28.0    0.020702\n",
       "63.0    0.020556\n",
       "25.0    0.020504\n",
       "27.0    0.020496\n",
       "41.0    0.020416\n",
       "23.0    0.019661\n",
       "Name: proportion, dtype: float64"
      ]
     },
     "execution_count": 8,
     "metadata": {},
     "output_type": "execute_result"
    }
   ],
   "source": [
    "i += 1\n",
    "print(f\"Now looking at feature {i}.\")\n",
    "df[df.columns[i]].value_counts(normalize=True)"
   ]
  },
  {
   "cell_type": "code",
   "execution_count": 9,
   "id": "6ed54718",
   "metadata": {},
   "outputs": [
    {
     "data": {
      "text/plain": [
       "count   1,181,295.00\n",
       "mean           41.15\n",
       "std            13.54\n",
       "min            18.00\n",
       "25%            30.00\n",
       "50%            41.00\n",
       "75%            53.00\n",
       "max            64.00\n",
       "Name: age, dtype: float64"
      ]
     },
     "execution_count": 9,
     "metadata": {},
     "output_type": "execute_result"
    }
   ],
   "source": [
    "#Thanks to ChatGPT re. this neat bit right here.\n",
    "\n",
    "pd.options.display.float_format = '{:,.2f}'.format\n",
    "df['age'].describe()\n",
    "# pd.reset_option('display.float_format')"
   ]
  },
  {
   "cell_type": "markdown",
   "id": "2006a33b",
   "metadata": {},
   "source": [
    "Yeah, quite a nice distribution here. Shame it cuts off at 64. Unsurprising that it only starts at 18.\n",
    "\n",
    "Now, immediately I'd want to band as we assume people of similar ages have similar enough characteristics. Furthermore, from an actuarial/rate perspective we'd do that all the time (for that or whatever other reasns). It definitely makes things simpler. I'm pretty sure even after banding we'd still consider specific ages.\n",
    "\n",
    "So, starting from 18-22, simplifying all that to the '20' band.... and we'd likely either make the 60 band, consisting of people (by default) 58-62 to be bigger and also have 63 and 64... or a smaller 'old' band of anybody beyond that. Initially I was inclined a bigger final one, but my current desire is to have a smaller older band at our conclusion: It's flexible to account for a theortical change of data (that go beyond 64), retains spirit of my old work where we'd have a senior category, and it's funny (I plan on calling it 'oldies' or 'dinosaurs').\n",
    "\n",
    "Anyways, essentially normally distributed around 41. Decent standard deviation, but makes sense given stuff (vague)."
   ]
  },
  {
   "cell_type": "code",
   "execution_count": 10,
   "id": "d4834e99",
   "metadata": {},
   "outputs": [],
   "source": [
    "age_band_names = []\n",
    "for band in range(20,65, 5):\n",
    "    age_band_names.append(band)\n",
    "# print(names)\n",
    "\n",
    "for feature in age_band_names:\n",
    "    cond1 = feature - 2\n",
    "    cond2 = feature + 2\n",
    "    df[str(feature)] = [1 if (age >= cond1 and age <= cond2) else 0 for age in df['age']]\n",
    "\n",
    "#ChatGPT recommended something like this, but eh...\n",
    "# for band in age_band_names[:-1]:  # Handle all except 'dinosaurs'\n",
    "#     lower, upper = map(int, band.split('-'))\n",
    "#     df[band] = ((df['age'] >= lower - 2) & (df['age'] <= upper + 2)).astype(int)\n",
    "    \n",
    "df['dinosaurs'] = (df['age'] > age_band_names[-1]+2).astype(int)#I'll keep their version. And they were right - why bother\n",
    "#adding it earlier then have to deal with exception stuff if it's really just this..."
   ]
  },
  {
   "cell_type": "code",
   "execution_count": 11,
   "id": "e6b2e614",
   "metadata": {},
   "outputs": [
    {
     "name": "stdout",
     "output_type": "stream",
     "text": [
      "Now looking at feature 2.\n"
     ]
    },
    {
     "data": {
      "text/plain": [
       "gender\n",
       "1    0.502143\n",
       "0    0.497858\n",
       "Name: proportion, dtype: float64"
      ]
     },
     "execution_count": 11,
     "metadata": {},
     "output_type": "execute_result"
    }
   ],
   "source": [
    "pd.reset_option('display.float_format')\n",
    "\n",
    "i += 1\n",
    "print(f\"Now looking at feature {i}.\")\n",
    "\n",
    "df['gender'] = [1 if gender == 'Male' else 0 for gender in df['gender']]\n",
    "\n",
    "\n",
    "nulls = df[df.columns[i]].isnull().sum()\n",
    "if nulls > 0:\n",
    "    print(f\"Reminder that {df.columns[i]} has {nulls} nulls - deal with them noob.\")\n",
    "\n",
    "df[df.columns[i]].value_counts(normalize=True)\n",
    "\n",
    "#Nice even split. approximately.\n",
    "\n"
   ]
  },
  {
   "cell_type": "code",
   "execution_count": 12,
   "id": "e73e020d",
   "metadata": {},
   "outputs": [
    {
     "name": "stdout",
     "output_type": "stream",
     "text": [
      "Now looking at feature 2.\n"
     ]
    },
    {
     "data": {
      "text/plain": [
       "count   1,200,000.00\n",
       "mean            0.50\n",
       "std             0.50\n",
       "min             0.00\n",
       "25%             0.00\n",
       "50%             1.00\n",
       "75%             1.00\n",
       "max             1.00\n",
       "Name: gender, dtype: float64"
      ]
     },
     "execution_count": 12,
     "metadata": {},
     "output_type": "execute_result"
    }
   ],
   "source": [
    "pd.options.display.float_format = '{:,.2f}'.format\n",
    "\n",
    "# i += 1\n",
    "print(f\"Now looking at feature {i}.\")\n",
    "nulls = df[df.columns[i]].isnull().sum()\n",
    "if nulls > 0:\n",
    "    print(f\"Reminder that {df.columns[i]} has {nulls} nulls ({round(nulls/df.shape[0], 3)}%) - deal with them noob.\")\n",
    "df[df.columns[i]].describe()"
   ]
  },
  {
   "cell_type": "code",
   "execution_count": 13,
   "id": "9e8a9164",
   "metadata": {},
   "outputs": [],
   "source": [
    "#Yeah, I should really keep the filling a seperate cell. Regardless. Let's analyze:\n",
    "#Unexpectedly skewed to the right, with the median quite lower than the mean... Funny what year the date is based off of\n",
    "#given inflation and the like. Regardless, the trend holds true.\n",
    "\n",
    "#I'd expect a strong correlation to health, as by default if they can't even afford healthcare... At the same time, I recall\n",
    "#the quandry of a certain streamer - if you're broke you get it for free and if you're rich it doesn't matter, but all the\n",
    "#middl class.... And, evn thte upper tiers I could imagine depending upon their scenarios.... Ie even 150k is not all hat\n",
    "#much in 2025....\n",
    "\n",
    "df[df.columns[i]].fillna(df[df.columns[i]].median(), inplace=True)"
   ]
  },
  {
   "cell_type": "code",
   "execution_count": 14,
   "id": "d736bf48",
   "metadata": {},
   "outputs": [
    {
     "name": "stdout",
     "output_type": "stream",
     "text": [
      "Now looking at feature 3.\n",
      "Reminder that annual_income has 44949 nulls (0.037%) - deal with them noob.\n"
     ]
    },
    {
     "data": {
      "text/plain": [
       "annual_income\n",
       "7,073.00     0.00\n",
       "16,054.00    0.00\n",
       "14,094.00    0.00\n",
       "24,897.00    0.00\n",
       "15,983.00    0.00\n",
       "             ... \n",
       "121,412.00   0.00\n",
       "54,758.00    0.00\n",
       "83,944.00    0.00\n",
       "116,936.00   0.00\n",
       "40,368.00    0.00\n",
       "Name: proportion, Length: 88593, dtype: float64"
      ]
     },
     "execution_count": 14,
     "metadata": {},
     "output_type": "execute_result"
    }
   ],
   "source": [
    "i += 1\n",
    "print(f\"Now looking at feature {i}.\")\n",
    "nulls = df[df.columns[i]].isnull().sum()\n",
    "if nulls > 0:\n",
    "    print(f\"Reminder that {df.columns[i]} has {nulls} nulls ({round(nulls/df.shape[0], 3)}%) - deal with them noob.\")\n",
    "df[df.columns[i]].value_counts(normalize=True)"
   ]
  },
  {
   "cell_type": "code",
   "execution_count": 15,
   "id": "c60ec0a0",
   "metadata": {},
   "outputs": [
    {
     "name": "stdout",
     "output_type": "stream",
     "text": [
      "Now looking at feature 4.\n",
      "Reminder that marital_status has 18529 nulls (0.015%) - deal with them noob.\n"
     ]
    },
    {
     "data": {
      "text/plain": [
       "marital_status\n",
       "Single     0.33\n",
       "Married    0.33\n",
       "Divorced   0.33\n",
       "Name: proportion, dtype: float64"
      ]
     },
     "execution_count": 15,
     "metadata": {},
     "output_type": "execute_result"
    }
   ],
   "source": [
    "i += 1\n",
    "print(f\"Now looking at feature {i}.\")\n",
    "nulls = df[df.columns[i]].isnull().sum()\n",
    "if nulls > 0:\n",
    "    print(f\"Reminder that {df.columns[i]} has {nulls} nulls ({round(nulls/df.shape[0], 3)}%) - deal with them noob.\")\n",
    "df[df.columns[i]].value_counts(normalize=True)"
   ]
  },
  {
   "cell_type": "code",
   "execution_count": 16,
   "id": "cbb66045",
   "metadata": {},
   "outputs": [],
   "source": [
    "#Even enough distribution. Shame with the Pandas rounding as I'm sure it's not precise. Hmm, maybe I should just do both?\n",
    "#So, in this case I'd assume single as definitionally they have themselves, so logically it would be the 'baseline'.\n",
    "\n",
    "df[df.columns[i]].fillna('Single', inplace=True)\n",
    "df = pd.get_dummies(df, columns=[df.columns[i]], dtype=int, drop_first=True)"
   ]
  },
  {
   "cell_type": "code",
   "execution_count": 17,
   "id": "cf4b8a51",
   "metadata": {},
   "outputs": [
    {
     "name": "stdout",
     "output_type": "stream",
     "text": [
      "Now looking at feature 4.\n",
      "Reminder that number_of_dependents has 109672 nulls (0.091%) - deal with them noob.\n"
     ]
    },
    {
     "data": {
      "text/plain": [
       "number_of_dependents\n",
       "3.00   0.20\n",
       "4.00   0.20\n",
       "0.00   0.20\n",
       "2.00   0.20\n",
       "1.00   0.20\n",
       "Name: proportion, dtype: float64"
      ]
     },
     "execution_count": 17,
     "metadata": {},
     "output_type": "execute_result"
    }
   ],
   "source": [
    "#Guess I'll be lazy and not delete this line whenever I get rid of the i += 1 per a dummifying.\n",
    "print(f\"Now looking at feature {i}.\")\n",
    "nulls = df[df.columns[i]].isnull().sum()\n",
    "if nulls > 0:\n",
    "    print(f\"Reminder that {df.columns[i]} has {nulls} nulls ({round(nulls/df.shape[0], 3)}%) - deal with them noob.\")\n",
    "df[df.columns[i]].value_counts(normalize=True)"
   ]
  },
  {
   "cell_type": "code",
   "execution_count": 18,
   "id": "a691e7f7",
   "metadata": {},
   "outputs": [
    {
     "ename": "NameError",
     "evalue": "name 'stop' is not defined",
     "output_type": "error",
     "traceback": [
      "\u001b[1;31m---------------------------------------------------------------------------\u001b[0m",
      "\u001b[1;31mNameError\u001b[0m                                 Traceback (most recent call last)",
      "Cell \u001b[1;32mIn[18], line 1\u001b[0m\n\u001b[1;32m----> 1\u001b[0m stop\n",
      "\u001b[1;31mNameError\u001b[0m: name 'stop' is not defined"
     ]
    }
   ],
   "source": [
    "resume here next time"
   ]
  },
  {
   "cell_type": "code",
   "execution_count": null,
   "id": "64fc1efc",
   "metadata": {},
   "outputs": [],
   "source": [
    "i += 1\n",
    "print(f\"Now looking at feature {i}.\")\n",
    "nulls = df[df.columns[i]].isnull().sum()\n",
    "if nulls > 0:\n",
    "    print(f\"Reminder that {df.columns[i]} has {nulls} nulls ({round(nulls/df.shape[0], 3)}%) - deal with them noob.\")\n",
    "df[df.columns[i]].value_counts(normalize=True)"
   ]
  },
  {
   "cell_type": "code",
   "execution_count": null,
   "id": "b43c72c4",
   "metadata": {},
   "outputs": [],
   "source": [
    "i += 1\n",
    "print(f\"Now looking at feature {i}.\")\n",
    "nulls = df[df.columns[i]].isnull().sum()\n",
    "if nulls > 0:\n",
    "    print(f\"Reminder that {df.columns[i]} has {nulls} nulls ({round(nulls/df.shape[0], 3)}%) - deal with them noob.\")\n",
    "df[df.columns[i]].value_counts(normalize=True)"
   ]
  },
  {
   "cell_type": "code",
   "execution_count": null,
   "id": "005e3590",
   "metadata": {},
   "outputs": [],
   "source": [
    "i += 1\n",
    "print(f\"Now looking at feature {i}.\")\n",
    "nulls = df[df.columns[i]].isnull().sum()\n",
    "if nulls > 0:\n",
    "    print(f\"Reminder that {df.columns[i]} has {nulls} nulls ({round(nulls/df.shape[0], 3)}%) - deal with them noob.\")\n",
    "df[df.columns[i]].value_counts(normalize=True)"
   ]
  },
  {
   "cell_type": "code",
   "execution_count": null,
   "id": "03578bc9",
   "metadata": {},
   "outputs": [],
   "source": [
    "i += 1\n",
    "print(f\"Now looking at feature {i}.\")\n",
    "nulls = df[df.columns[i]].isnull().sum()\n",
    "if nulls > 0:\n",
    "    print(f\"Reminder that {df.columns[i]} has {nulls} nulls ({round(nulls/df.shape[0], 3)}%) - deal with them noob.\")\n",
    "df[df.columns[i]].value_counts(normalize=True)"
   ]
  },
  {
   "cell_type": "code",
   "execution_count": null,
   "id": "11f1b148",
   "metadata": {},
   "outputs": [],
   "source": [
    "#And finally, the dummifying time. Per my current code of using i do easily go through features I'd rather not potentially\n",
    "#miss a feature. Ie if I dummify marriag status then the 'new' index is the next feauture. When I then run the code...\n",
    "#Eh,c ould just delete the i then for the next feature, but whatevr"
   ]
  },
  {
   "cell_type": "markdown",
   "id": "19be235f",
   "metadata": {},
   "source": [
    "## Concluding Matters"
   ]
  },
  {
   "cell_type": "code",
   "execution_count": null,
   "id": "0a8500f6",
   "metadata": {},
   "outputs": [],
   "source": [
    "stop"
   ]
  },
  {
   "cell_type": "code",
   "execution_count": null,
   "id": "5a627d28",
   "metadata": {},
   "outputs": [],
   "source": [
    "#As I said earlier, prepping the total changed cleanings for modeling.\n",
    "#Ie kind of like on Git we have the commit before actually pushing.\n",
    "df = pd.read_csv('../data/train_data.csv')\n",
    "df.columns = df.columns.str.lower().str.replace(' ', '_').str.replace('.', '')\n",
    "for col in df.columns:\n",
    "    try:\n",
    "        df[col] = round(df[col], 3)\n",
    "    except:\n",
    "        pass\n",
    "\n",
    "age_band_names = []\n",
    "for band in range(20,65, 5):\n",
    "    age_band_names.append(band)\n",
    "# print(names)\n",
    "\n",
    "for feature in age_band_names:\n",
    "    cond1 = feature - 2\n",
    "    cond2 = feature + 2\n",
    "    df[str(feature)] = [1 if (age >= cond1 and age <= cond2) else 0 for age in df['age']]\n",
    "\n",
    "#ChatGPT recommended something like this, but eh...\n",
    "# for band in age_band_names[:-1]:  # Handle all except 'dinosaurs'\n",
    "#     lower, upper = map(int, band.split('-'))\n",
    "#     df[band] = ((df['age'] >= lower - 2) & (df['age'] <= upper + 2)).astype(int)\n",
    "    \n",
    "df['dinosaurs'] = (df['age'] > age_band_names[-1]+2).astype(int)#I'll keep their version. And they were right - why bother\n",
    "#adding it earlier then have to deal with exception stuff if it's really just this...\n",
    "\n",
    "df['gender'] = [1 if gender == 'Male' else 0 for gender in df['gender']]"
   ]
  }
 ],
 "metadata": {
  "kernelspec": {
   "display_name": "Python 3 (ipykernel)",
   "language": "python",
   "name": "python3"
  },
  "language_info": {
   "codemirror_mode": {
    "name": "ipython",
    "version": 3
   },
   "file_extension": ".py",
   "mimetype": "text/x-python",
   "name": "python",
   "nbconvert_exporter": "python",
   "pygments_lexer": "ipython3",
   "version": "3.11.5"
  }
 },
 "nbformat": 4,
 "nbformat_minor": 5
}
